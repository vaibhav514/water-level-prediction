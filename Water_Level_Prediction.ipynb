{
  "cells": [
    {
      "cell_type": "markdown",
      "metadata": {
        "id": "view-in-github",
        "colab_type": "text"
      },
      "source": [
        "<a href=\"https://colab.research.google.com/github/vaibhav514/water-level-prediction/blob/main/Water_Level_Prediction.ipynb\" target=\"_parent\"><img src=\"https://colab.research.google.com/assets/colab-badge.svg\" alt=\"Open In Colab\"/></a>"
      ]
    },
    {
      "cell_type": "markdown",
      "metadata": {
        "id": "HWkgek5XDarE"
      },
      "source": [
        "\n",
        "\n",
        "---WATER LEVEL PREDICITION FOR EPICS---\n",
        "\n"
      ]
    },
    {
      "cell_type": "code",
      "execution_count": null,
      "metadata": {
        "id": "vUSgHcbLCZyP"
      },
      "outputs": [],
      "source": [
        "import numpy as np\n",
        "import pandas as pd\n",
        "from keras.models import Sequential\n",
        "from keras.layers import Dense, Dropout\n",
        "from sklearn.preprocessing import MinMaxScaler"
      ]
    },
    {
      "cell_type": "markdown",
      "metadata": {
        "id": "4OiTCSmtDibU"
      },
      "source": [
        "Load data"
      ]
    },
    {
      "cell_type": "code",
      "execution_count": null,
      "metadata": {
        "id": "Np2pKJfYCm61"
      },
      "outputs": [],
      "source": [
        "data = pd.read_csv('waterlevels.csv')\n",
        "X = data.drop(['Water Level'], axis=1)\n",
        "y = data['Water Level'].values.reshape(-1, 1)\n",
        "evap = data['Evaporation'].values.reshape(-1, 1)\n",
        "salinity = data['Salinity'].values.reshape(-1,1 )\n",
        "precipitation = data['Precipitation'].values.reshape(-1, 1)"
      ]
    },
    {
      "cell_type": "markdown",
      "source": [
        "Checking data"
      ],
      "metadata": {
        "id": "ismrWGH_cXMI"
      }
    },
    {
      "cell_type": "code",
      "execution_count": null,
      "metadata": {
        "colab": {
          "base_uri": "https://localhost:8080/",
          "height": 206
        },
        "id": "r9VG1mPrwZWi",
        "outputId": "d91f92fc-2e9a-4de6-91d3-1026d4a6d06e"
      },
      "outputs": [
        {
          "data": {
            "text/html": [
              "\n",
              "  <div id=\"df-c932c9cf-5eee-48ca-a839-9e3dd86fc3cc\">\n",
              "    <div class=\"colab-df-container\">\n",
              "      <div>\n",
              "<style scoped>\n",
              "    .dataframe tbody tr th:only-of-type {\n",
              "        vertical-align: middle;\n",
              "    }\n",
              "\n",
              "    .dataframe tbody tr th {\n",
              "        vertical-align: top;\n",
              "    }\n",
              "\n",
              "    .dataframe thead th {\n",
              "        text-align: right;\n",
              "    }\n",
              "</style>\n",
              "<table border=\"1\" class=\"dataframe\">\n",
              "  <thead>\n",
              "    <tr style=\"text-align: right;\">\n",
              "      <th></th>\n",
              "      <th>Precipitation</th>\n",
              "      <th>Water Level</th>\n",
              "      <th>Salinity</th>\n",
              "      <th>Evaporation</th>\n",
              "    </tr>\n",
              "  </thead>\n",
              "  <tbody>\n",
              "    <tr>\n",
              "      <th>0</th>\n",
              "      <td>71.966667</td>\n",
              "      <td>334.133462</td>\n",
              "      <td>65.0</td>\n",
              "      <td>14.735714</td>\n",
              "    </tr>\n",
              "    <tr>\n",
              "      <th>1</th>\n",
              "      <td>112.875000</td>\n",
              "      <td>334.133462</td>\n",
              "      <td>71.5</td>\n",
              "      <td>14.735714</td>\n",
              "    </tr>\n",
              "    <tr>\n",
              "      <th>2</th>\n",
              "      <td>77.225000</td>\n",
              "      <td>334.133462</td>\n",
              "      <td>71.5</td>\n",
              "      <td>14.735714</td>\n",
              "    </tr>\n",
              "    <tr>\n",
              "      <th>3</th>\n",
              "      <td>123.466667</td>\n",
              "      <td>282.060000</td>\n",
              "      <td>71.5</td>\n",
              "      <td>14.735714</td>\n",
              "    </tr>\n",
              "    <tr>\n",
              "      <th>4</th>\n",
              "      <td>58.433333</td>\n",
              "      <td>189.293000</td>\n",
              "      <td>71.5</td>\n",
              "      <td>14.735714</td>\n",
              "    </tr>\n",
              "  </tbody>\n",
              "</table>\n",
              "</div>\n",
              "      <button class=\"colab-df-convert\" onclick=\"convertToInteractive('df-c932c9cf-5eee-48ca-a839-9e3dd86fc3cc')\"\n",
              "              title=\"Convert this dataframe to an interactive table.\"\n",
              "              style=\"display:none;\">\n",
              "        \n",
              "  <svg xmlns=\"http://www.w3.org/2000/svg\" height=\"24px\"viewBox=\"0 0 24 24\"\n",
              "       width=\"24px\">\n",
              "    <path d=\"M0 0h24v24H0V0z\" fill=\"none\"/>\n",
              "    <path d=\"M18.56 5.44l.94 2.06.94-2.06 2.06-.94-2.06-.94-.94-2.06-.94 2.06-2.06.94zm-11 1L8.5 8.5l.94-2.06 2.06-.94-2.06-.94L8.5 2.5l-.94 2.06-2.06.94zm10 10l.94 2.06.94-2.06 2.06-.94-2.06-.94-.94-2.06-.94 2.06-2.06.94z\"/><path d=\"M17.41 7.96l-1.37-1.37c-.4-.4-.92-.59-1.43-.59-.52 0-1.04.2-1.43.59L10.3 9.45l-7.72 7.72c-.78.78-.78 2.05 0 2.83L4 21.41c.39.39.9.59 1.41.59.51 0 1.02-.2 1.41-.59l7.78-7.78 2.81-2.81c.8-.78.8-2.07 0-2.86zM5.41 20L4 18.59l7.72-7.72 1.47 1.35L5.41 20z\"/>\n",
              "  </svg>\n",
              "      </button>\n",
              "      \n",
              "  <style>\n",
              "    .colab-df-container {\n",
              "      display:flex;\n",
              "      flex-wrap:wrap;\n",
              "      gap: 12px;\n",
              "    }\n",
              "\n",
              "    .colab-df-convert {\n",
              "      background-color: #E8F0FE;\n",
              "      border: none;\n",
              "      border-radius: 50%;\n",
              "      cursor: pointer;\n",
              "      display: none;\n",
              "      fill: #1967D2;\n",
              "      height: 32px;\n",
              "      padding: 0 0 0 0;\n",
              "      width: 32px;\n",
              "    }\n",
              "\n",
              "    .colab-df-convert:hover {\n",
              "      background-color: #E2EBFA;\n",
              "      box-shadow: 0px 1px 2px rgba(60, 64, 67, 0.3), 0px 1px 3px 1px rgba(60, 64, 67, 0.15);\n",
              "      fill: #174EA6;\n",
              "    }\n",
              "\n",
              "    [theme=dark] .colab-df-convert {\n",
              "      background-color: #3B4455;\n",
              "      fill: #D2E3FC;\n",
              "    }\n",
              "\n",
              "    [theme=dark] .colab-df-convert:hover {\n",
              "      background-color: #434B5C;\n",
              "      box-shadow: 0px 1px 3px 1px rgba(0, 0, 0, 0.15);\n",
              "      filter: drop-shadow(0px 1px 2px rgba(0, 0, 0, 0.3));\n",
              "      fill: #FFFFFF;\n",
              "    }\n",
              "  </style>\n",
              "\n",
              "      <script>\n",
              "        const buttonEl =\n",
              "          document.querySelector('#df-c932c9cf-5eee-48ca-a839-9e3dd86fc3cc button.colab-df-convert');\n",
              "        buttonEl.style.display =\n",
              "          google.colab.kernel.accessAllowed ? 'block' : 'none';\n",
              "\n",
              "        async function convertToInteractive(key) {\n",
              "          const element = document.querySelector('#df-c932c9cf-5eee-48ca-a839-9e3dd86fc3cc');\n",
              "          const dataTable =\n",
              "            await google.colab.kernel.invokeFunction('convertToInteractive',\n",
              "                                                     [key], {});\n",
              "          if (!dataTable) return;\n",
              "\n",
              "          const docLinkHtml = 'Like what you see? Visit the ' +\n",
              "            '<a target=\"_blank\" href=https://colab.research.google.com/notebooks/data_table.ipynb>data table notebook</a>'\n",
              "            + ' to learn more about interactive tables.';\n",
              "          element.innerHTML = '';\n",
              "          dataTable['output_type'] = 'display_data';\n",
              "          await google.colab.output.renderOutput(dataTable, element);\n",
              "          const docLink = document.createElement('div');\n",
              "          docLink.innerHTML = docLinkHtml;\n",
              "          element.appendChild(docLink);\n",
              "        }\n",
              "      </script>\n",
              "    </div>\n",
              "  </div>\n",
              "  "
            ],
            "text/plain": [
              "   Precipitation  Water Level  Salinity  Evaporation\n",
              "0      71.966667   334.133462      65.0    14.735714\n",
              "1     112.875000   334.133462      71.5    14.735714\n",
              "2      77.225000   334.133462      71.5    14.735714\n",
              "3     123.466667   282.060000      71.5    14.735714\n",
              "4      58.433333   189.293000      71.5    14.735714"
            ]
          },
          "execution_count": 3,
          "metadata": {},
          "output_type": "execute_result"
        }
      ],
      "source": [
        "data.head()"
      ]
    },
    {
      "cell_type": "markdown",
      "metadata": {
        "id": "OqvQJnWGDlTX"
      },
      "source": [
        "Normalize data"
      ]
    },
    {
      "cell_type": "code",
      "execution_count": null,
      "metadata": {
        "colab": {
          "base_uri": "https://localhost:8080/"
        },
        "id": "WG4cBt0exbPO",
        "outputId": "25ee509c-c1ae-428c-9178-0e37f6a24af7"
      },
      "outputs": [
        {
          "data": {
            "text/plain": [
              "[[123.4666667, 58.43333333], [663.114, 189.293], [89.0, 56.0], [17.5, 11.325]]"
            ]
          },
          "execution_count": 4,
          "metadata": {},
          "output_type": "execute_result"
        }
      ],
      "source": [
        "min_max_list=[]\n",
        "temp=[]\n",
        "\n",
        "\n",
        "# for i in data.columns:\n",
        "#     print(df[i].max())\n",
        "#     print(df[i].min())\n",
        "    \n",
        "    \n",
        "\n",
        "for i in data.columns:\n",
        "    temp.append(data[i].max())\n",
        "    temp.append(data[i].min())\n",
        "    min_max_list.append(temp)\n",
        "    temp=[]\n",
        "\n",
        "min_max_list"
      ]
    },
    {
      "cell_type": "markdown",
      "source": [
        "Combine X and evap, salinity, and precipitation data"
      ],
      "metadata": {
        "id": "jT6bWLgucQm6"
      }
    },
    {
      "cell_type": "code",
      "execution_count": null,
      "metadata": {
        "id": "44ql69dtCqhB"
      },
      "outputs": [],
      "source": [
        "scaler_X = MinMaxScaler()\n",
        "X = scaler_X.fit_transform(X)\n",
        "\n",
        "scaler_y = MinMaxScaler()\n",
        "y = scaler_y.fit_transform(y)\n",
        "\n",
        "scaler_evap = MinMaxScaler()\n",
        "evap = scaler_evap.fit_transform(evap)\n",
        "\n",
        "scaler_salinity = MinMaxScaler()\n",
        "salinity = scaler_salinity.fit_transform(salinity)\n",
        "\n",
        "scaler_precipitation = MinMaxScaler()\n",
        "precipitation = scaler_precipitation.fit_transform(precipitation)"
      ]
    },
    {
      "cell_type": "markdown",
      "metadata": {
        "id": "f5Vsb57JDqu-"
      },
      "source": [
        "another way to Combine X and evap, salinity, and precipitation data"
      ]
    },
    {
      "cell_type": "code",
      "execution_count": null,
      "metadata": {
        "id": "PJ2unFwLCuLE"
      },
      "outputs": [],
      "source": [
        "# X = np.concatenate((X, evap, salinity, precipitation), axis=1)"
      ]
    },
    {
      "cell_type": "markdown",
      "metadata": {
        "id": "jTCo-z7WDrsJ"
      },
      "source": [
        "Split data into training and testing sets"
      ]
    },
    {
      "cell_type": "code",
      "execution_count": null,
      "metadata": {
        "id": "Tsh5nGHwCxCF"
      },
      "outputs": [],
      "source": [
        "split = int(0.9* len(data))\n",
        "X_train, y_train = X[:split], y[:split]\n",
        "X_test, y_test = X[split:], y[split:]"
      ]
    },
    {
      "cell_type": "markdown",
      "metadata": {
        "id": "C6eeRKFKDxHd"
      },
      "source": [
        "Define MLP model with ReLU activation"
      ]
    },
    {
      "cell_type": "code",
      "execution_count": null,
      "metadata": {
        "id": "8xkTCptvCzkB"
      },
      "outputs": [],
      "source": [
        "model = Sequential()\n",
        "model.add(Dense(64, input_dim=(X.shape[1]), activation='relu'))\n",
        "model.add(Dense(32, activation='relu'))\n",
        "model.add(Dense(1,  activation='linear'))"
      ]
    },
    {
      "cell_type": "code",
      "execution_count": null,
      "metadata": {
        "id": "Bh_zR5FmC2eS"
      },
      "outputs": [],
      "source": [
        "model.compile(loss='mean_squared_error', optimizer='adam')"
      ]
    },
    {
      "cell_type": "markdown",
      "metadata": {
        "id": "umRUgfzLD7YU"
      },
      "source": [
        "Train model"
      ]
    },
    {
      "cell_type": "code",
      "execution_count": null,
      "metadata": {
        "colab": {
          "background_save": true,
          "base_uri": "https://localhost:8080/"
        },
        "id": "9AkIU_UJC5J6",
        "outputId": "404e761a-00bd-4b22-d495-54c37b1c5b50"
      },
      "outputs": [
        {
          "name": "stdout",
          "output_type": "stream",
          "text": [
            "Epoch 1/100\n",
            "6/6 [==============================] - 2s 97ms/step - loss: 0.2456 - val_loss: 0.1320\n",
            "Epoch 2/100\n",
            "6/6 [==============================] - 0s 10ms/step - loss: 0.1028 - val_loss: 0.0425\n",
            "Epoch 3/100\n",
            "6/6 [==============================] - 0s 13ms/step - loss: 0.0359 - val_loss: 0.0116\n",
            "Epoch 4/100\n",
            "6/6 [==============================] - 0s 21ms/step - loss: 0.0134 - val_loss: 0.0035\n",
            "Epoch 5/100\n",
            "6/6 [==============================] - 0s 10ms/step - loss: 0.0093 - val_loss: 0.0057\n",
            "Epoch 6/100\n",
            "6/6 [==============================] - 0s 17ms/step - loss: 0.0100 - val_loss: 0.0059\n",
            "Epoch 7/100\n",
            "6/6 [==============================] - 0s 11ms/step - loss: 0.0090 - val_loss: 0.0039\n",
            "Epoch 8/100\n",
            "6/6 [==============================] - 0s 15ms/step - loss: 0.0073 - val_loss: 0.0023\n",
            "Epoch 9/100\n",
            "6/6 [==============================] - 0s 13ms/step - loss: 0.0066 - val_loss: 0.0019\n",
            "Epoch 10/100\n",
            "6/6 [==============================] - 0s 11ms/step - loss: 0.0064 - val_loss: 0.0017\n",
            "Epoch 11/100\n",
            "6/6 [==============================] - 0s 11ms/step - loss: 0.0061 - val_loss: 0.0014\n",
            "Epoch 12/100\n",
            "6/6 [==============================] - 0s 17ms/step - loss: 0.0057 - val_loss: 0.0012\n",
            "Epoch 13/100\n",
            "6/6 [==============================] - 0s 17ms/step - loss: 0.0054 - val_loss: 0.0010\n",
            "Epoch 14/100\n",
            "6/6 [==============================] - 0s 15ms/step - loss: 0.0052 - val_loss: 8.6126e-04\n",
            "Epoch 15/100\n",
            "6/6 [==============================] - 0s 44ms/step - loss: 0.0049 - val_loss: 7.2409e-04\n",
            "Epoch 16/100\n",
            "6/6 [==============================] - 0s 28ms/step - loss: 0.0048 - val_loss: 5.9846e-04\n",
            "Epoch 17/100\n",
            "6/6 [==============================] - 0s 40ms/step - loss: 0.0047 - val_loss: 4.9636e-04\n",
            "Epoch 18/100\n",
            "6/6 [==============================] - 0s 36ms/step - loss: 0.0046 - val_loss: 4.4007e-04\n",
            "Epoch 19/100\n",
            "6/6 [==============================] - 0s 30ms/step - loss: 0.0045 - val_loss: 3.8844e-04\n",
            "Epoch 20/100\n",
            "6/6 [==============================] - 0s 38ms/step - loss: 0.0045 - val_loss: 3.4287e-04\n",
            "Epoch 21/100\n",
            "6/6 [==============================] - 0s 29ms/step - loss: 0.0044 - val_loss: 3.2844e-04\n",
            "Epoch 22/100\n",
            "6/6 [==============================] - 0s 27ms/step - loss: 0.0043 - val_loss: 3.0303e-04\n",
            "Epoch 23/100\n",
            "6/6 [==============================] - 0s 46ms/step - loss: 0.0043 - val_loss: 2.9082e-04\n",
            "Epoch 24/100\n",
            "6/6 [==============================] - 0s 39ms/step - loss: 0.0043 - val_loss: 2.7848e-04\n",
            "Epoch 25/100\n",
            "6/6 [==============================] - 0s 30ms/step - loss: 0.0042 - val_loss: 2.7451e-04\n",
            "Epoch 26/100\n",
            "6/6 [==============================] - 0s 33ms/step - loss: 0.0042 - val_loss: 2.7511e-04\n",
            "Epoch 27/100\n",
            "6/6 [==============================] - 0s 30ms/step - loss: 0.0041 - val_loss: 2.8022e-04\n",
            "Epoch 28/100\n",
            "6/6 [==============================] - 0s 47ms/step - loss: 0.0041 - val_loss: 2.7423e-04\n",
            "Epoch 29/100\n",
            "6/6 [==============================] - 0s 30ms/step - loss: 0.0040 - val_loss: 2.8336e-04\n",
            "Epoch 30/100\n",
            "6/6 [==============================] - 0s 31ms/step - loss: 0.0040 - val_loss: 2.7787e-04\n",
            "Epoch 31/100\n",
            "6/6 [==============================] - 0s 19ms/step - loss: 0.0040 - val_loss: 3.0846e-04\n",
            "Epoch 32/100\n",
            "6/6 [==============================] - 0s 16ms/step - loss: 0.0040 - val_loss: 2.8746e-04\n",
            "Epoch 33/100\n",
            "6/6 [==============================] - 0s 35ms/step - loss: 0.0039 - val_loss: 2.8861e-04\n",
            "Epoch 34/100\n",
            "6/6 [==============================] - 0s 29ms/step - loss: 0.0039 - val_loss: 3.0329e-04\n",
            "Epoch 35/100\n",
            "6/6 [==============================] - 0s 33ms/step - loss: 0.0039 - val_loss: 2.9337e-04\n",
            "Epoch 36/100\n",
            "6/6 [==============================] - 0s 43ms/step - loss: 0.0038 - val_loss: 2.9227e-04\n",
            "Epoch 37/100\n",
            "6/6 [==============================] - 0s 27ms/step - loss: 0.0038 - val_loss: 3.2245e-04\n",
            "Epoch 38/100\n",
            "6/6 [==============================] - 0s 30ms/step - loss: 0.0038 - val_loss: 3.3062e-04\n",
            "Epoch 39/100\n",
            "6/6 [==============================] - 0s 34ms/step - loss: 0.0038 - val_loss: 3.0647e-04\n",
            "Epoch 40/100\n",
            "6/6 [==============================] - 0s 25ms/step - loss: 0.0038 - val_loss: 3.5013e-04\n",
            "Epoch 41/100\n",
            "6/6 [==============================] - 0s 32ms/step - loss: 0.0037 - val_loss: 3.1664e-04\n",
            "Epoch 42/100\n",
            "6/6 [==============================] - 0s 30ms/step - loss: 0.0037 - val_loss: 3.1161e-04\n",
            "Epoch 43/100\n",
            "6/6 [==============================] - 0s 24ms/step - loss: 0.0037 - val_loss: 3.6036e-04\n",
            "Epoch 44/100\n",
            "6/6 [==============================] - 0s 28ms/step - loss: 0.0037 - val_loss: 3.6087e-04\n",
            "Epoch 45/100\n",
            "6/6 [==============================] - 0s 25ms/step - loss: 0.0037 - val_loss: 3.5735e-04\n",
            "Epoch 46/100\n",
            "6/6 [==============================] - 0s 24ms/step - loss: 0.0037 - val_loss: 3.8580e-04\n",
            "Epoch 47/100\n",
            "6/6 [==============================] - 0s 23ms/step - loss: 0.0037 - val_loss: 3.5124e-04\n",
            "Epoch 48/100\n",
            "6/6 [==============================] - 0s 25ms/step - loss: 0.0036 - val_loss: 3.9468e-04\n",
            "Epoch 49/100\n",
            "6/6 [==============================] - 0s 23ms/step - loss: 0.0036 - val_loss: 3.8204e-04\n",
            "Epoch 50/100\n",
            "6/6 [==============================] - 0s 25ms/step - loss: 0.0036 - val_loss: 3.8688e-04\n",
            "Epoch 51/100\n",
            "6/6 [==============================] - 0s 24ms/step - loss: 0.0036 - val_loss: 3.9232e-04\n",
            "Epoch 52/100\n",
            "6/6 [==============================] - 0s 28ms/step - loss: 0.0036 - val_loss: 4.0124e-04\n",
            "Epoch 53/100\n",
            "6/6 [==============================] - 0s 29ms/step - loss: 0.0036 - val_loss: 4.2410e-04\n",
            "Epoch 54/100\n",
            "6/6 [==============================] - 0s 26ms/step - loss: 0.0036 - val_loss: 4.3642e-04\n",
            "Epoch 55/100\n",
            "6/6 [==============================] - 0s 21ms/step - loss: 0.0036 - val_loss: 4.2099e-04\n",
            "Epoch 56/100\n",
            "6/6 [==============================] - 0s 34ms/step - loss: 0.0035 - val_loss: 4.7399e-04\n",
            "Epoch 57/100\n",
            "6/6 [==============================] - 0s 33ms/step - loss: 0.0036 - val_loss: 4.9182e-04\n",
            "Epoch 58/100\n",
            "6/6 [==============================] - 0s 42ms/step - loss: 0.0036 - val_loss: 4.7184e-04\n",
            "Epoch 59/100\n",
            "6/6 [==============================] - 0s 21ms/step - loss: 0.0035 - val_loss: 5.0358e-04\n",
            "Epoch 60/100\n",
            "6/6 [==============================] - 0s 15ms/step - loss: 0.0036 - val_loss: 5.0349e-04\n",
            "Epoch 61/100\n",
            "6/6 [==============================] - 0s 22ms/step - loss: 0.0035 - val_loss: 4.6220e-04\n",
            "Epoch 62/100\n",
            "6/6 [==============================] - 0s 11ms/step - loss: 0.0035 - val_loss: 4.5494e-04\n",
            "Epoch 63/100\n",
            "6/6 [==============================] - 0s 12ms/step - loss: 0.0035 - val_loss: 5.7476e-04\n",
            "Epoch 64/100\n",
            "6/6 [==============================] - 0s 18ms/step - loss: 0.0035 - val_loss: 5.0624e-04\n",
            "Epoch 65/100\n",
            "6/6 [==============================] - 0s 19ms/step - loss: 0.0035 - val_loss: 5.2743e-04\n",
            "Epoch 66/100\n",
            "6/6 [==============================] - 0s 21ms/step - loss: 0.0035 - val_loss: 5.6493e-04\n",
            "Epoch 67/100\n",
            "6/6 [==============================] - 0s 21ms/step - loss: 0.0034 - val_loss: 5.1776e-04\n",
            "Epoch 68/100\n",
            "6/6 [==============================] - 0s 14ms/step - loss: 0.0035 - val_loss: 4.8832e-04\n",
            "Epoch 69/100\n",
            "6/6 [==============================] - 0s 17ms/step - loss: 0.0035 - val_loss: 6.9964e-04\n",
            "Epoch 70/100\n",
            "6/6 [==============================] - 0s 12ms/step - loss: 0.0035 - val_loss: 5.2807e-04\n",
            "Epoch 71/100\n",
            "6/6 [==============================] - 0s 13ms/step - loss: 0.0034 - val_loss: 5.5156e-04\n",
            "Epoch 72/100\n",
            "6/6 [==============================] - 0s 11ms/step - loss: 0.0034 - val_loss: 6.1769e-04\n",
            "Epoch 73/100\n",
            "6/6 [==============================] - 0s 12ms/step - loss: 0.0034 - val_loss: 5.5931e-04\n",
            "Epoch 74/100\n",
            "6/6 [==============================] - 0s 14ms/step - loss: 0.0035 - val_loss: 6.1063e-04\n",
            "Epoch 75/100\n",
            "6/6 [==============================] - 0s 16ms/step - loss: 0.0034 - val_loss: 5.4505e-04\n",
            "Epoch 76/100\n",
            "6/6 [==============================] - 0s 12ms/step - loss: 0.0034 - val_loss: 5.8440e-04\n",
            "Epoch 77/100\n",
            "6/6 [==============================] - 0s 11ms/step - loss: 0.0034 - val_loss: 6.2587e-04\n",
            "Epoch 78/100\n",
            "6/6 [==============================] - 0s 11ms/step - loss: 0.0034 - val_loss: 5.7763e-04\n",
            "Epoch 79/100\n",
            "6/6 [==============================] - 0s 10ms/step - loss: 0.0034 - val_loss: 6.1219e-04\n",
            "Epoch 80/100\n",
            "6/6 [==============================] - 0s 17ms/step - loss: 0.0034 - val_loss: 6.5139e-04\n",
            "Epoch 81/100\n",
            "6/6 [==============================] - 0s 15ms/step - loss: 0.0034 - val_loss: 5.8411e-04\n",
            "Epoch 82/100\n",
            "6/6 [==============================] - 0s 15ms/step - loss: 0.0034 - val_loss: 6.9673e-04\n",
            "Epoch 83/100\n",
            "6/6 [==============================] - 0s 21ms/step - loss: 0.0034 - val_loss: 6.3481e-04\n",
            "Epoch 84/100\n",
            "6/6 [==============================] - 0s 20ms/step - loss: 0.0034 - val_loss: 6.4971e-04\n",
            "Epoch 85/100\n",
            "6/6 [==============================] - 0s 13ms/step - loss: 0.0034 - val_loss: 6.8005e-04\n",
            "Epoch 86/100\n",
            "6/6 [==============================] - 0s 11ms/step - loss: 0.0034 - val_loss: 6.7078e-04\n",
            "Epoch 87/100\n",
            "6/6 [==============================] - 0s 20ms/step - loss: 0.0034 - val_loss: 6.2883e-04\n",
            "Epoch 88/100\n",
            "6/6 [==============================] - 0s 13ms/step - loss: 0.0033 - val_loss: 6.4953e-04\n",
            "Epoch 89/100\n",
            "6/6 [==============================] - 0s 12ms/step - loss: 0.0033 - val_loss: 6.4923e-04\n",
            "Epoch 90/100\n",
            "6/6 [==============================] - 0s 14ms/step - loss: 0.0034 - val_loss: 6.1655e-04\n",
            "Epoch 91/100\n",
            "6/6 [==============================] - 0s 24ms/step - loss: 0.0033 - val_loss: 7.0774e-04\n",
            "Epoch 92/100\n",
            "6/6 [==============================] - 0s 20ms/step - loss: 0.0033 - val_loss: 6.7713e-04\n",
            "Epoch 93/100\n",
            "6/6 [==============================] - 0s 13ms/step - loss: 0.0033 - val_loss: 6.9998e-04\n",
            "Epoch 94/100\n",
            "6/6 [==============================] - 0s 11ms/step - loss: 0.0034 - val_loss: 6.3883e-04\n",
            "Epoch 95/100\n",
            "6/6 [==============================] - 0s 11ms/step - loss: 0.0033 - val_loss: 6.6854e-04\n",
            "Epoch 96/100\n",
            "6/6 [==============================] - 0s 10ms/step - loss: 0.0033 - val_loss: 6.2411e-04\n",
            "Epoch 97/100\n",
            "6/6 [==============================] - 0s 15ms/step - loss: 0.0033 - val_loss: 6.9352e-04\n",
            "Epoch 98/100\n",
            "6/6 [==============================] - 0s 17ms/step - loss: 0.0033 - val_loss: 6.8183e-04\n",
            "Epoch 99/100\n",
            "6/6 [==============================] - 0s 18ms/step - loss: 0.0033 - val_loss: 6.8824e-04\n",
            "Epoch 100/100\n",
            "6/6 [==============================] - 0s 12ms/step - loss: 0.0033 - val_loss: 6.8016e-04\n"
          ]
        }
      ],
      "source": [
        "history = model.fit(X_train, y_train, epochs=100, batch_size=32, validation_data=(X_test, y_test))"
      ]
    },
    {
      "cell_type": "markdown",
      "metadata": {
        "id": "ToT5q6mmD-nT"
      },
      "source": [
        "Evaluate model on training set"
      ]
    },
    {
      "cell_type": "code",
      "execution_count": null,
      "metadata": {
        "colab": {
          "background_save": true
        },
        "id": "qkzDemiiC_MM",
        "outputId": "d3337cf5-98a5-4abc-e244-ec88f552d95b"
      },
      "outputs": [
        {
          "name": "stdout",
          "output_type": "stream",
          "text": [
            "Training loss: 0.0032818091567605734\n"
          ]
        }
      ],
      "source": [
        "train_score = model.evaluate(X_train, y_train, verbose=0)\n",
        "print('Training loss:', train_score)"
      ]
    },
    {
      "cell_type": "markdown",
      "metadata": {
        "id": "fqL1THXFEA-T"
      },
      "source": [
        "Evaluate model on testing set"
      ]
    },
    {
      "cell_type": "code",
      "execution_count": null,
      "metadata": {
        "colab": {
          "background_save": true
        },
        "id": "4DRmNPAcDDDk",
        "outputId": "a12c4d66-8926-4e34-adcc-3f38fbe42cde"
      },
      "outputs": [
        {
          "name": "stdout",
          "output_type": "stream",
          "text": [
            "Testing loss: 0.0006801553536206484\n"
          ]
        }
      ],
      "source": [
        "test_score = model.evaluate(X_test, y_test, verbose=0)\n",
        "print('Testing loss:', test_score)\n"
      ]
    },
    {
      "cell_type": "code",
      "execution_count": null,
      "metadata": {
        "colab": {
          "background_save": true
        },
        "id": "SfX29rM6zHNL",
        "outputId": "278f5591-3f5e-4bd2-c34c-46809c6c6e12"
      },
      "outputs": [
        {
          "data": {
            "text/plain": [
              "array([[0.71986837, 0.46969697, 0.71255061],\n",
              "       [0.76596075, 0.46969697, 0.78137652],\n",
              "       [0.59035005, 0.46969697, 0.5951417 ],\n",
              "       [0.36432388, 0.46969697, 0.5708502 ],\n",
              "       [0.76632235, 0.46969697, 0.5523424 ],\n",
              "       [0.60332797, 0.46969697, 0.56275304],\n",
              "       [0.57452225, 0.46969697, 0.36032389],\n",
              "       [0.54782486, 0.46969697, 0.16194332],\n",
              "       [0.49079006, 0.46969697, 0.5523424 ],\n",
              "       [0.52423519, 0.27272727, 0.5523424 ],\n",
              "       [0.60171365, 0.46969697, 0.5523424 ],\n",
              "       [0.68193151, 0.46969697, 0.5523424 ],\n",
              "       [0.68223177, 0.46969697, 0.5523424 ],\n",
              "       [0.6989503 , 0.46969697, 0.5523424 ],\n",
              "       [0.39558218, 0.66666667, 0.2145749 ],\n",
              "       [0.7699137 , 0.46969697, 0.5523424 ],\n",
              "       [0.50157674, 0.27272727, 0.74898785],\n",
              "       [0.56481886, 0.46969697, 0.5523424 ],\n",
              "       [0.69972695, 0.46969697, 0.5523424 ],\n",
              "       [0.78711716, 0.33333333, 0.20647773],\n",
              "       [0.59500735, 0.60606061, 0.        ],\n",
              "       [0.44776944, 0.46969697, 0.5523424 ]])"
            ]
          },
          "execution_count": 16,
          "metadata": {},
          "output_type": "execute_result"
        }
      ],
      "source": [
        "X_test"
      ]
    },
    {
      "cell_type": "markdown",
      "metadata": {
        "id": "98f1soL6ED00"
      },
      "source": [
        "Make predictions"
      ]
    },
    {
      "cell_type": "code",
      "execution_count": null,
      "metadata": {
        "colab": {
          "background_save": true
        },
        "id": "XIyxaU1RDGde",
        "outputId": "097e7832-3bad-45e3-c3ee-0975a0dd1e5d"
      },
      "outputs": [
        {
          "name": "stdout",
          "output_type": "stream",
          "text": [
            "1/1 [==============================] - 0s 98ms/step\n"
          ]
        }
      ],
      "source": [
        "y_test *= 1000\n",
        "y_test += 35\n",
        "predictions = scaler_y.inverse_transform(model.predict(X_test))"
      ]
    },
    {
      "cell_type": "markdown",
      "metadata": {
        "id": "ccxhkZvIEGIs"
      },
      "source": [
        "Plot predictions against actual values"
      ]
    },
    {
      "cell_type": "code",
      "execution_count": null,
      "metadata": {
        "colab": {
          "background_save": true
        },
        "id": "yg-fAVL3DKHb",
        "outputId": "33d4a070-93ab-48a1-e49f-8be34669c875"
      },
      "outputs": [
        {
          "data": {
            "image/png": "[encoded data removed]",
            "text/plain": [
              "<Figure size 640x480 with 1 Axes>"
            ]
          },
          "metadata": {},
          "output_type": "display_data"
        }
      ],
      "source": [
        "import matplotlib.pyplot as plt\n",
        "plt.plot(y_test, label='Actual')\n",
        "plt.plot(predictions, label='Predicted')\n",
        "plt.xlim(0,22)\n",
        "plt.ylim(0,500)\n",
        "plt.ylabel(\"Water Level(m)\")\n",
        "plt.title(\"Actual vs Predicted\")\n",
        "plt.legend()\n",
        "plt.show()"
      ]
    },
    {
      "cell_type": "code",
      "execution_count": null,
      "metadata": {
        "colab": {
          "background_save": true
        },
        "id": "uAHzL46Q818F",
        "outputId": "39f4839f-4997-49e7-f6f3-824d8dbbee9f"
      },
      "outputs": [
        {
          "data": {
            "text/plain": [
              "array([0.71986837, 0.46969697, 0.71255061])"
            ]
          },
          "execution_count": 19,
          "metadata": {},
          "output_type": "execute_result"
        }
      ],
      "source": [
        "type(X_test[0])\n",
        "X_test[0]"
      ]
    },
    {
      "cell_type": "markdown",
      "metadata": {
        "id": "zFlogBSREI6x"
      },
      "source": [
        "Plot loss curves for training and testing sets"
      ]
    },
    {
      "cell_type": "code",
      "execution_count": null,
      "metadata": {
        "colab": {
          "background_save": true
        },
        "id": "St_1kLvkDPTr",
        "outputId": "bd2a831f-6184-4812-bf1e-f3444d21a1de"
      },
      "outputs": [
        {
          "data": {
            "image/png": "[encoded data removed]",
            "text/plain": [
              "<Figure size 640x480 with 1 Axes>"
            ]
          },
          "metadata": {},
          "output_type": "display_data"
        }
      ],
      "source": [
        "plt.plot(history.history['loss'], label='Training Loss')\n",
        "plt.plot(history.history['val_loss'], label='Testing Loss')\n",
        "plt.xlabel(\"No. of Epoch\")\n",
        "plt.title(\"Training vs Testing\")\n",
        "plt.legend()\n",
        "plt.show()\n"
      ]
    },
    {
      "cell_type": "code",
      "execution_count": null,
      "metadata": {
        "colab": {
          "background_save": true
        },
        "id": "6EZqrX1JvpI-"
      },
      "outputs": [],
      "source": [
        "model.save('model.h5')"
      ]
    }
  ],
  "metadata": {
    "colab": {
      "provenance": [],
      "include_colab_link": true
    },
    "kernelspec": {
      "display_name": "Python 3",
      "name": "python3"
    },
    "language_info": {
      "name": "python"
    }
  },
  "nbformat": 4,
  "nbformat_minor": 0
}